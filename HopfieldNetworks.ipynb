{
 "cells": [
  {
   "cell_type": "code",
   "execution_count": 3,
   "metadata": {},
   "outputs": [],
   "source": [
    "import numpy as np\n",
    "import numpy.random as npr"
   ]
  },
  {
   "cell_type": "code",
   "execution_count": 53,
   "metadata": {},
   "outputs": [
    {
     "name": "stdout",
     "output_type": "stream",
     "text": [
      "0 0.6 [ 1  1  1  1  1 -1  1 -1 -1  1  1  1  1 -1 -1 -1  1  1 -1  1  1 -1  1 -1 -1]\n",
      "1 1.0 [ 1.  1.  1.  1.  1. -1.  1. -1. -1.  1. -1.  1.  1. -1.  1. -1. -1.  1.\n",
      " -1. -1.  1. -1.  1.  1. -1.]\n",
      "2 1.0 [ 1.  1.  1.  1.  1. -1.  1. -1. -1.  1. -1.  1.  1. -1.  1. -1. -1.  1.\n",
      " -1. -1.  1. -1.  1.  1. -1.]\n",
      "3 1.0 [ 1.  1.  1.  1.  1. -1.  1. -1. -1.  1. -1.  1.  1. -1.  1. -1. -1.  1.\n",
      " -1. -1.  1. -1.  1.  1. -1.]\n",
      "4 1.0 [ 1.  1.  1.  1.  1. -1.  1. -1. -1.  1. -1.  1.  1. -1.  1. -1. -1.  1.\n",
      " -1. -1.  1. -1.  1.  1. -1.]\n",
      "5 1.0 [ 1.  1.  1.  1.  1. -1.  1. -1. -1.  1. -1.  1.  1. -1.  1. -1. -1.  1.\n",
      " -1. -1.  1. -1.  1.  1. -1.]\n",
      "6 1.0 [ 1.  1.  1.  1.  1. -1.  1. -1. -1.  1. -1.  1.  1. -1.  1. -1. -1.  1.\n",
      " -1. -1.  1. -1.  1.  1. -1.]\n",
      "7 1.0 [ 1.  1.  1.  1.  1. -1.  1. -1. -1.  1. -1.  1.  1. -1.  1. -1. -1.  1.\n",
      " -1. -1.  1. -1.  1.  1. -1.]\n",
      "8 1.0 [ 1.  1.  1.  1.  1. -1.  1. -1. -1.  1. -1.  1.  1. -1.  1. -1. -1.  1.\n",
      " -1. -1.  1. -1.  1.  1. -1.]\n",
      "9 1.0 [ 1.  1.  1.  1.  1. -1.  1. -1. -1.  1. -1.  1.  1. -1.  1. -1. -1.  1.\n",
      " -1. -1.  1. -1.  1.  1. -1.]\n"
     ]
    }
   ],
   "source": [
    "sz = (5,5)\n",
    "N = (sz[0] * sz[1])  # number of neurons\n",
    "patterns = []\n",
    "M = 3  # number of patterns to store\n",
    "for i in range(M):\n",
    "    p = npr.choice(np.array([1, -1]), size=N)\n",
    "    patterns.append(p)\n",
    "\n",
    "# learn these patterns by setting appropriate weights\n",
    "c = 1 / N\n",
    "weights = np.zeros(shape=(N, N))\n",
    "for i in range(N):\n",
    "    for j in range(N):\n",
    "        for p in patterns:\n",
    "            weights[i,j] += p[i] * p[j]\n",
    "weights *= c\n",
    "\n",
    "weights\n",
    "\n",
    "def get_overlap(p1, p2):\n",
    "    n = len(p1)\n",
    "    mu = 0\n",
    "    for i in range(n):\n",
    "        mu += p1[i] * p2[i]\n",
    "    return mu/n\n",
    "\n",
    "def update(weights, state):\n",
    "    h = np.sum(weights * state, axis=1)\n",
    "    s1 = np.sign(h)\n",
    "    # by definition, neurons have state +/-1. If the\n",
    "    # sign function returns 0, we set it to +1\n",
    "    idx0 = s1 == 0\n",
    "    s1[idx0] = 1\n",
    "    return s1\n",
    "\n",
    "noisy_p = patterns[0].copy()\n",
    "for i in range(5):\n",
    "    rdid = npr.choice(N)\n",
    "    noisy_p[rdid] = -patterns[0][rdid]\n",
    "\n",
    "state = noisy_p.copy()\n",
    "for i in range(10):\n",
    "    print(i, get_overlap(state, patterns[0]), state)\n",
    "    state = update(weights, state)"
   ]
  },
  {
   "cell_type": "code",
   "execution_count": null,
   "metadata": {},
   "outputs": [],
   "source": []
  },
  {
   "cell_type": "code",
   "execution_count": null,
   "metadata": {},
   "outputs": [],
   "source": []
  }
 ],
 "metadata": {
  "kernelspec": {
   "display_name": "Python [conda root]",
   "language": "python",
   "name": "conda-root-py"
  },
  "language_info": {
   "codemirror_mode": {
    "name": "ipython",
    "version": 3
   },
   "file_extension": ".py",
   "mimetype": "text/x-python",
   "name": "python",
   "nbconvert_exporter": "python",
   "pygments_lexer": "ipython3",
   "version": "3.6.5"
  }
 },
 "nbformat": 4,
 "nbformat_minor": 2
}
