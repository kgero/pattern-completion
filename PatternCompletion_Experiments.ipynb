{
 "cells": [
  {
   "cell_type": "code",
   "execution_count": 1,
   "metadata": {},
   "outputs": [],
   "source": [
    "import numpy as np\n",
    "import numpy.random as npr\n",
    "from scipy import sparse\n",
    "from scipy.spatial.distance import cosine\n",
    "from time import time\n",
    "\n",
    "from matplotlib import pyplot as plt\n",
    "from matplotlib import animation, rc, collections\n",
    "from IPython.display import HTML\n",
    "\n",
    "np.set_printoptions(precision=3)"
   ]
  },
  {
   "cell_type": "markdown",
   "metadata": {},
   "source": [
    "Here are all the functions from the walkthrough in a single block:"
   ]
  },
  {
   "cell_type": "code",
   "execution_count": 2,
   "metadata": {},
   "outputs": [],
   "source": [
    "def get_weights_motifs(shape, prob, split=.9, core=.4):\n",
    "    \"\"\"Return a weights matrix with prob amount of random connections activated.\n",
    "    \n",
    "    Args:\n",
    "        shape: (int) number of neurons in network\n",
    "        prob: (float) fraction of connections to be activated\n",
    "    \n",
    "    Returns:\n",
    "        weights: (numpy matrix) connectivity weight matrix\n",
    "    \"\"\"\n",
    "    # THIS IS NOT QUITE RANDOM...\n",
    "    l = int(shape*shape*prob)\n",
    "    l_split = int(l * split)\n",
    "    shape_split = int(shape * core)\n",
    "    rows_core = npr.choice(range(shape_split), l_split)\n",
    "    cols_core = npr.choice(range(shape_split), l_split)\n",
    "    rows_all = npr.choice(range(shape), l - l_split)\n",
    "    cols_all = npr.choice(range(shape), l - l_split)\n",
    "    rows = np.concatenate((rows_core, rows_all))\n",
    "    cols = np.concatenate((cols_core, cols_all))\n",
    "    weights = sparse.csr_matrix((np.ones(len(rows)), (rows, cols)), shape=(shape,shape))\n",
    "    weights.setdiag(0)\n",
    "    return weights\n",
    "\n",
    "def get_weights_rand(shape, prob):\n",
    "    \"\"\"Return a weights matrix with prob amount of random connections activated.\n",
    "    \n",
    "    Args:\n",
    "        shape: (int) number of neurons in network\n",
    "        prob: (float) fraction of connections to be activated\n",
    "    \n",
    "    Returns:\n",
    "        weights: (numpy matrix) connectivity weight matrix\n",
    "    \"\"\"\n",
    "    # THIS IS NOT QUITE RANDOM...\n",
    "    l = int(shape*shape*prob)\n",
    "    rows = npr.choice(range(shape), l)\n",
    "    cols = npr.choice(range(shape), l)\n",
    "    weights = sparse.csr_matrix((np.ones(l), (rows, cols)), shape=(shape,shape))\n",
    "    weights.setdiag(0)\n",
    "    return weights\n",
    "\n",
    "def get_patterns(activity, num_neurons, num_patterns):\n",
    "    \"\"\"Return a matrix where each row is a pattern with activity level activity.\n",
    "    \n",
    "    Args:\n",
    "        activity: (float) avg activity level per pattern\n",
    "        num_neurons: (int) num neurons in network\n",
    "        num_patterns: (int) num patterns to generate\n",
    "    \n",
    "    Returns:\n",
    "        patterns: (numpy matrix) set of patterns shape=(num_patterns, num_neurons)\n",
    "    \"\"\"\n",
    "    return npr.binomial(1, activity, size=(num_patterns, num_neurons))\n",
    "\n",
    "def get_syn_weights(patterns):\n",
    "    \"\"\"Return synaptic weight matrix.\n",
    "    \n",
    "    Args:\n",
    "        patterns: (numpy matrix) set of patterns, shape=(num_patterns, num_neurons)\n",
    "        \n",
    "    Returns:\n",
    "        syn: (numpy matrix) synaptic weight matrix, shape=(num_neurons, num_neurons)\n",
    "    \"\"\"\n",
    "    num_patterns, num_neurons = patterns.shape\n",
    "    row_ind = []\n",
    "    col_ind = []\n",
    "    for i in range(num_patterns):\n",
    "        p = sparse.csr_matrix(patterns[i, :])\n",
    "        mat = p.multiply(p.T)\n",
    "        rows, cols = np.nonzero(mat)\n",
    "        row_ind = np.concatenate([row_ind, rows])\n",
    "        col_ind = np.concatenate([col_ind, cols])\n",
    "    o = np.ones(len(row_ind))\n",
    "    return sparse.csr_matrix((o, (row_ind, col_ind)), shape=(num_neurons, num_neurons))\n",
    "\n",
    "def get_degraded_pattern(pattern, valid, spurious):\n",
    "    \"\"\"Return degraded pattern for input to simulation to do pattern completion.\n",
    "    \n",
    "    Args:\n",
    "        pattern: (array) pattern to degrade, 0s or 1s, shape=(num_neurons)\n",
    "        valid: (float) fraction of valid firing neurons\n",
    "        spurious: (float) fraction of spurious firing neurons\n",
    "    \n",
    "    Return:\n",
    "        deg_pat: (array) degraded pattern, 0s or 1s, shape=(num_neurons)\n",
    "    \"\"\"\n",
    "    fires = np.nonzero(pattern)[0]\n",
    "    deg_fires = npr.choice(fires, size=int(valid*len(fires)), replace=False)\n",
    "\n",
    "    nonfires = np.where(pattern == 0)[0]\n",
    "    spur_fires = npr.choice(nonfires, size=int(spurious*len(nonfires)), replace=False)\n",
    "    \n",
    "    all_fires = np.concatenate((deg_fires, spur_fires), axis=0)\n",
    "\n",
    "    deg_pat = np.zeros(shape=(len(pattern),))\n",
    "    deg_pat[all_fires] = 1\n",
    "    \n",
    "    return deg_pat\n",
    "\n",
    "def get_correlation(p1, p2):\n",
    "    if sum(p1) == 0 or sum(p2) == 0:\n",
    "        return 0\n",
    "    p1_ = p1 - (sum(p1)/len(p1))\n",
    "    p2_ = p2 - (sum(p2)/len(p2))\n",
    "    return 1 - cosine(p1_, p2_)\n",
    "\n",
    "def simulate(in_pattern, out_pattern, con_mat, syn_mat, g0, g1, cycles=10, pprint=False):\n",
    "    \"\"\"Return final matrix of updates.\n",
    "    \n",
    "    Args:\n",
    "        in_pattern: (array) degraded pattern to start\n",
    "        out_pattern: (array) original pattern to attempt to recall\n",
    "        con_mat: (matrix) connectivity matrix\n",
    "        syn_mat: (matrix) synaptic weights matrix\n",
    "        g0: (float) firing threshold\n",
    "        g1: (float) inhibition factor\n",
    "        cycles: (int) num times to run iteration\n",
    "    \n",
    "    Return:\n",
    "        curr_mat: (matrix) end state matrix\n",
    "    \"\"\"\n",
    "    n = len(in_pattern)\n",
    "    W_J = con_mat.multiply(syn_mat)\n",
    "    state = sparse.csr_matrix(np.matrix(in_pattern)).T\n",
    "    if pprint:\n",
    "        print('{:<10} {:<10} {:<10}'.format('steps', 'correl', 'num fires'))\n",
    "    for i in range(cycles):\n",
    "        if pprint:\n",
    "            curr = state.T.toarray()[0]\n",
    "            print('{:<10} {:<10.2f} {:<10}'.format(i, get_correlation(curr, out_pattern), sum(curr)))\n",
    "        _inter = W_J.dot(state)\n",
    "        h = (1/n) * _inter\n",
    "        condition = h - ( (1/n) * g1 * np.sum(state) )\n",
    "        state = condition > g0\n",
    "        state = _inter > 0.\n",
    "    curr = state.T.toarray()[0]\n",
    "    return get_correlation(curr, out_pattern)"
   ]
  },
  {
   "cell_type": "markdown",
   "metadata": {},
   "source": [
    "Let's make the main connectivity matrix, as that takes the longest and we can't hold more than one in memory at a time:"
   ]
  },
  {
   "cell_type": "code",
   "execution_count": 52,
   "metadata": {},
   "outputs": [
    {
     "name": "stderr",
     "output_type": "stream",
     "text": [
      "/anaconda3/lib/python3.6/site-packages/scipy/sparse/compressed.py:746: SparseEfficiencyWarning: Changing the sparsity structure of a csr_matrix is expensive. lil_matrix is more efficient.\n",
      "  SparseEfficiencyWarning)\n"
     ]
    },
    {
     "name": "stdout",
     "output_type": "stream",
     "text": [
      "p: 0.04, made W in 327.3439438343048\n"
     ]
    }
   ],
   "source": [
    "n = 100000                 # number of neurons in network; CA3 is 330,000 (or double)\n",
    "p = .04                    # connection probability for weight matrix\n",
    "v = 'Motif'                # string modifier for saved results\n",
    "\n",
    "now = time()\n",
    "W = get_weights_motifs(n, p) # connectivity weight matrix; are neurons connected?\n",
    "print('p: {}, made W in {}'.format(p, time() - now))"
   ]
  },
  {
   "cell_type": "markdown",
   "metadata": {},
   "source": [
    "Now let's degrade a pattern, and have a look at what a degraded pattern looks like:"
   ]
  },
  {
   "cell_type": "code",
   "execution_count": 53,
   "metadata": {},
   "outputs": [
    {
     "name": "stdout",
     "output_type": "stream",
     "text": [
      "0 1 2 3 4 5 6 7 8 9 "
     ]
    }
   ],
   "source": [
    "f = 0.001                      # average activity level of each pattern\n",
    "m_rng = [1, 5, 10, 50, 100]    # number of patterns to store\n",
    "\n",
    "b_vald = .5                    # fraction of valid firing neurons in patterns\n",
    "b_spur = 0.001                 # fraction of spurious firing neurons in patterns\n",
    "\n",
    "loops = 10\n",
    "init = np.zeros((loops, len(m_rng)))\n",
    "finl = np.zeros((loops, len(m_rng)))\n",
    "\n",
    "for i in range(loops):\n",
    "    print(i, end=' ', flush=True)\n",
    "    init_corr = []                 # list to store original correlation for each m value\n",
    "    finl_corr = []                 # list to store 'completed' correlation for each m value\n",
    "\n",
    "    for m in m_rng:\n",
    "        M = get_patterns(f, n, m)  # patterns\n",
    "        J = get_syn_weights(M)     # synaptic weight matrix J; how much are neurons connected?\n",
    "        W_J = W.multiply(J)\n",
    "\n",
    "        pattern = M[0, :]\n",
    "        badpat = get_degraded_pattern(pattern, b_vald, b_spur)\n",
    "        init_corr.append(get_correlation(pattern, badpat))\n",
    "\n",
    "        g_0 = n/3\n",
    "        g_1 = 0.0\n",
    "        res = simulate(badpat, pattern, W, J, g_0, g_1, cycles=10)\n",
    "        finl_corr.append(res)\n",
    "\n",
    "    init[i, :] = init_corr\n",
    "    finl[i, :] = finl_corr\n",
    "\n",
    "np.savetxt('results/p{}finlcorr{}.txt'.format(p, v), finl)\n",
    "np.savetxt('results/p{}initcorr{}.txt'.format(p, v), init)"
   ]
  },
  {
   "cell_type": "code",
   "execution_count": 45,
   "metadata": {},
   "outputs": [
    {
     "name": "stdout",
     "output_type": "stream",
     "text": [
      "[ 0.403  0.402  0.4    0.404  0.412]\n",
      "[ 0.671  0.612  0.597  0.164  0.069]\n"
     ]
    }
   ],
   "source": [
    "finl = np.loadtxt('results/p{}finlcorr{}.txt'.format(p, v))\n",
    "init = np.loadtxt('results/p{}initcorr{}.txt'.format(p, v))\n",
    "\n",
    "init_avg = np.sum(init, axis=0)/loops\n",
    "finl_avg = np.sum(finl, axis=0)/loops\n",
    "\n",
    "print(init_avg)\n",
    "print(finl_avg)"
   ]
  },
  {
   "cell_type": "code",
   "execution_count": 54,
   "metadata": {},
   "outputs": [
    {
     "name": "stdout",
     "output_type": "stream",
     "text": [
      "0.01 [ 0.746  0.732  0.671  0.476  0.37 ]\n",
      "0.01 [ 0.523  0.523  0.368  0.253  0.119] with motifs\n",
      "0.02 [ 0.889  0.744  0.728  0.242  0.127]\n",
      "0.02 [ 0.671  0.612  0.597  0.164  0.069] with motifs\n",
      "0.03 [ 0.976  0.639  0.64   0.174  0.096]\n",
      "0.03 [ 0.918  0.736  0.574  0.154  0.087] with motifs\n",
      "0.04 [ 0.992  0.825  0.623  0.141  0.093]\n",
      "0.04 [ 0.709  0.677  0.542  0.129  0.07 ] with motifs\n",
      "0.05 [ 0.385  0.282  0.291  0.201  0.127]\n",
      "0.05 [ 0.756  0.698  0.479  0.124  0.073] with motifs\n"
     ]
    }
   ],
   "source": [
    "p_rng = [0.01, 0.02, 0.03, 0.04, 0.05]\n",
    "corr_pln = np.zeros((len(p_rng), len(m_rng)))\n",
    "corr_mtf = np.zeros((len(p_rng), len(m_rng)))\n",
    "\n",
    "for i, p in enumerate(p_rng):\n",
    "    finl = np.loadtxt('results/p{}finlcorr.txt'.format(p))\n",
    "    finl_avg = np.sum(finl, axis=0)/loops\n",
    "    corr_pln[i, :] = finl_avg\n",
    "    print(p, finl_avg)\n",
    "\n",
    "    finl = np.loadtxt('results/p{}finlcorrMotif.txt'.format(p))\n",
    "    finl_avg = np.sum(finl, axis=0)/loops\n",
    "    corr_mtf[i, :] = finl_avg\n",
    "    print(p, finl_avg, 'with motifs')"
   ]
  },
  {
   "cell_type": "code",
   "execution_count": 64,
   "metadata": {},
   "outputs": [
    {
     "data": {
      "image/png": "[encoded data removed]",
      "text/plain": [
       "<Figure size 432x288 with 1 Axes>"
      ]
     },
     "metadata": {},
     "output_type": "display_data"
    }
   ],
   "source": [
    "fig, ax = plt.subplots()\n",
    "\n",
    "ax.set_title(\"Pattern completion (difference)\")\n",
    "data = corr_mtf - corr_pln\n",
    "# data = corr_mtf\n",
    "im = ax.imshow(data)\n",
    "\n",
    "# We want to show all ticks...\n",
    "ax.set_xticks(np.arange(len(m_rng)))\n",
    "ax.set_yticks(np.arange(len(p_rng)))\n",
    "# ... and label them with the respective list entries\n",
    "ax.set_xticklabels(m_rng)\n",
    "ax.set_yticklabels(p_rng)\n",
    "ax.set_ylabel('p (connectivity of W)')\n",
    "ax.set_xlabel('m (number of patterns stored)')\n",
    "\n",
    "# Loop over data dimensions and create text annotations.\n",
    "for i in range(len(p_rng)):\n",
    "    for j in range(len(m_rng)):\n",
    "        if data[i, j] > .3:\n",
    "            text = ax.text(j, i, '{:.2f}'.format(data[i, j]),\n",
    "                       ha=\"center\", va=\"center\", color=\"k\")\n",
    "        else:\n",
    "            text = ax.text(j, i, '{:.2f}'.format(data[i, j]),\n",
    "                       ha=\"center\", va=\"center\", color=\"w\")\n",
    "\n",
    "fig.tight_layout()\n",
    "plt.show()"
   ]
  },
  {
   "cell_type": "code",
   "execution_count": null,
   "metadata": {},
   "outputs": [],
   "source": []
  }
 ],
 "metadata": {
  "kernelspec": {
   "display_name": "Python [conda root]",
   "language": "python",
   "name": "conda-root-py"
  },
  "language_info": {
   "codemirror_mode": {
    "name": "ipython",
    "version": 3
   },
   "file_extension": ".py",
   "mimetype": "text/x-python",
   "name": "python",
   "nbconvert_exporter": "python",
   "pygments_lexer": "ipython3",
   "version": "3.6.5"
  }
 },
 "nbformat": 4,
 "nbformat_minor": 2
}
