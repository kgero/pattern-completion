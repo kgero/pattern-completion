{
 "cells": [
  {
   "cell_type": "code",
   "execution_count": 1,
   "metadata": {},
   "outputs": [],
   "source": [
    "import numpy as np\n",
    "import numpy.random as npr\n",
    "from scipy import sparse\n",
    "from scipy.spatial.distance import cosine\n",
    "from time import time"
   ]
  },
  {
   "cell_type": "markdown",
   "metadata": {},
   "source": [
    "**Storage in the network model**"
   ]
  },
  {
   "cell_type": "code",
   "execution_count": 75,
   "metadata": {},
   "outputs": [
    {
     "name": "stdout",
     "output_type": "stream",
     "text": [
      "made W in 0.0874471664428711\n",
      "made M in 0.00040793418884277344\n",
      "made J in 0.0035719871520996094\n"
     ]
    },
    {
     "name": "stderr",
     "output_type": "stream",
     "text": [
      "/anaconda3/lib/python3.6/site-packages/scipy/sparse/compressed.py:746: SparseEfficiencyWarning: Changing the sparsity structure of a csr_matrix is expensive. lil_matrix is more efficient.\n",
      "  SparseEfficiencyWarning)\n"
     ]
    },
    {
     "data": {
      "text/plain": [
       "<1x1000 sparse matrix of type '<class 'numpy.float64'>'\n",
       "\twith 1000 stored elements in Compressed Sparse Row format>"
      ]
     },
     "execution_count": 75,
     "metadata": {},
     "output_type": "execute_result"
    }
   ],
   "source": [
    "def get_one(n):\n",
    "    \"\"\"Return array of ones of length n.\"\"\"\n",
    "    return np.ones(n)\n",
    "\n",
    "def get_weights_rand(shape, prob):\n",
    "    \"\"\"Return a weights matrix with prob amount of random connections activated.\n",
    "    \n",
    "    Args:\n",
    "        shape: (int) number of neurons in network\n",
    "        prob: (float) fraction of connections to be activated\n",
    "    \n",
    "    Returns:\n",
    "        weights: (numpy matrix) connectivity weight matrix\n",
    "    \"\"\"\n",
    "    # THIS IS NOT QUITE RANDOM...\n",
    "    l = int(shape*shape*prob)\n",
    "    rows = npr.choice(range(shape), l)\n",
    "    cols = npr.choice(range(shape), l)\n",
    "    weights = sparse.csr_matrix((np.ones(l), (rows, cols)), shape=(shape,shape))\n",
    "    weights.setdiag(0)\n",
    "    return weights\n",
    "\n",
    "def get_patterns(activity, num_neurons, num_patterns):\n",
    "    \"\"\"Return a matrix where each row is a pattern with activity level activity.\n",
    "    \n",
    "    Args:\n",
    "        activity: (float) avg activity level per pattern\n",
    "        num_neurons: (int) num neurons in network\n",
    "        num_patterns: (int) num patterns to generate\n",
    "    \n",
    "    Returns:\n",
    "        patterns: (numpy matrix) set of patterns shape=(num_patterns, num_neurons)\n",
    "    \"\"\"\n",
    "#     l = int(num_neurons*activity)\n",
    "#     rows = npr.choice(range(num_patterns), l)\n",
    "#     cols = npr.choice(range(num_neurons), l)\n",
    "#     patterns = sparse.csr_matrix((np.ones(l), (rows, cols)), shape=(num_patterns, num_neurons))\n",
    "    return npr.binomial(1, activity, size=(num_patterns, num_neurons))\n",
    "\n",
    "def get_syn_weights(patterns):\n",
    "    \"\"\"Return synaptic weight matrix.\n",
    "    \n",
    "    Args:\n",
    "        patterns: (numpy matrix) set of patterns, shape=(num_patterns, num_neurons)\n",
    "        \n",
    "    Returns:\n",
    "        syn: (numpy matrix) synaptic weight matrix, shape=(num_neurons, num_neurons)\n",
    "    \"\"\"\n",
    "    num_patterns, num_neurons = patterns.shape\n",
    "    row_ind = []\n",
    "    col_ind = []\n",
    "    for i in range(num_patterns):\n",
    "        p = sparse.csr_matrix(patterns[i, :])\n",
    "        mat = p.multiply(p.T)\n",
    "        rows, cols = np.nonzero(mat)\n",
    "        row_ind = np.concatenate([row_ind, rows])\n",
    "        col_ind = np.concatenate([col_ind, cols])\n",
    "    o = np.ones(len(row_ind))\n",
    "    return sparse.csr_matrix((o, (row_ind, col_ind)), shape=(num_neurons, num_neurons))\n",
    "\n",
    "# everything is decreased by 1 order of magnitude from paper\n",
    "\n",
    "n = 1000                  # number of neurons in network; CA3 is 330,000 (or double)\n",
    "p = .5                   # connection probability for weight matrix\n",
    "m = 5                   # number of patterns to store\n",
    "f = 0.005                  # average activity level of each pattern\n",
    "\n",
    "now = time()\n",
    "W = get_weights_rand(n, p) # connectivity weight matrix; are neurons connected?\n",
    "print('made W in', time() - now)\n",
    "now = time()\n",
    "M = get_patterns(f, n, m)  # patterns\n",
    "print('made M in', time() - now)\n",
    "now = time()\n",
    "J = get_syn_weights(M)     # synaptic weight matrix J; how much are neurons connected?\n",
    "print('made J in', time() - now)\n",
    "now = time()\n",
    "\n",
    "W.shape, M.shape, J.shape\n",
    "\n",
    "sum(sum(W))"
   ]
  },
  {
   "cell_type": "code",
   "execution_count": 56,
   "metadata": {},
   "outputs": [
    {
     "name": "stdout",
     "output_type": "stream",
     "text": [
      "W symmetric?   (0, 38)\tTrue\n",
      "  (0, 50)\tTrue\n",
      "  (0, 54)\tTrue\n",
      "  (0, 55)\tTrue\n",
      "  (0, 74)\tTrue\n",
      "  (0, 98)\tTrue\n",
      "  (0, 170)\tTrue\n",
      "  (0, 191)\tTrue\n",
      "  (0, 221)\tTrue\n",
      "  (0, 238)\tTrue\n",
      "  (0, 243)\tTrue\n",
      "  (0, 256)\tTrue\n",
      "  (0, 258)\tTrue\n",
      "  (0, 263)\tTrue\n",
      "  (0, 269)\tTrue\n",
      "  (0, 270)\tTrue\n",
      "  (0, 282)\tTrue\n",
      "  (0, 292)\tTrue\n",
      "  (0, 295)\tTrue\n",
      "  (0, 325)\tTrue\n",
      "  (0, 330)\tTrue\n",
      "  (0, 335)\tTrue\n",
      "  (0, 337)\tTrue\n",
      "  (0, 346)\tTrue\n",
      "  (0, 374)\tTrue\n",
      "  :\t:\n",
      "  (9999, 9746)\tTrue\n",
      "  (9999, 9750)\tTrue\n",
      "  (9999, 9768)\tTrue\n",
      "  (9999, 9785)\tTrue\n",
      "  (9999, 9794)\tTrue\n",
      "  (9999, 9795)\tTrue\n",
      "  (9999, 9822)\tTrue\n",
      "  (9999, 9828)\tTrue\n",
      "  (9999, 9831)\tTrue\n",
      "  (9999, 9837)\tTrue\n",
      "  (9999, 9851)\tTrue\n",
      "  (9999, 9874)\tTrue\n",
      "  (9999, 9880)\tTrue\n",
      "  (9999, 9884)\tTrue\n",
      "  (9999, 9889)\tTrue\n",
      "  (9999, 9891)\tTrue\n",
      "  (9999, 9902)\tTrue\n",
      "  (9999, 9918)\tTrue\n",
      "  (9999, 9931)\tTrue\n",
      "  (9999, 9933)\tTrue\n",
      "  (9999, 9938)\tTrue\n",
      "  (9999, 9959)\tTrue\n",
      "  (9999, 9986)\tTrue\n",
      "  (9999, 9988)\tTrue\n",
      "  (9999, 9994)\tTrue\n",
      "should be no\n",
      "J symmetric? \n",
      "should be yes\n"
     ]
    }
   ],
   "source": [
    "# TOO SLOW!!\n",
    "print('W symmetric?', W!=W.T)\n",
    "print('should be no')\n",
    "print('J symmetric?', J!=J.T)\n",
    "print('should be yes')"
   ]
  },
  {
   "cell_type": "markdown",
   "metadata": {},
   "source": [
    "**Recall in the network model**"
   ]
  },
  {
   "cell_type": "code",
   "execution_count": 82,
   "metadata": {},
   "outputs": [
    {
     "name": "stdout",
     "output_type": "stream",
     "text": [
      "made degraded pattern in 0.0005190372467041016\n",
      "correlation 0.604132328572\n",
      "steps      correl     num fires \n",
      "0          0.60       15.0      \n",
      "1          0.77       37        \n",
      "2          0.67       49        \n",
      "3          0.67       49        \n",
      "4          0.67       49        \n",
      "5          0.67       49        \n",
      "6          0.67       49        \n",
      "7          0.67       49        \n",
      "8          0.67       49        \n",
      "9          0.67       49        \n"
     ]
    }
   ],
   "source": [
    "def get_degraded_pattern(pattern, valid, spurious):\n",
    "    \"\"\"Return degraded pattern for input to simulation to do pattern completion.\n",
    "    \n",
    "    Args:\n",
    "        pattern: (array) pattern to degrade, 0s or 1s, shape=(num_neurons)\n",
    "        valid: (float) fraction of valid firing neurons\n",
    "        spurious: (float) fraction of spurious firing neurons\n",
    "    \n",
    "    Return:\n",
    "        deg_pat: (array) degraded pattern, 0s or 1s, shape=(num_neurons)\n",
    "    \"\"\"\n",
    "#     print('pattern of len {} with {} fires'.format(len(pattern), sum(pattern)))\n",
    "    fires = np.nonzero(pattern)[0]\n",
    "    deg_fires = npr.choice(fires, size=int(valid*len(fires)), replace=False)\n",
    "\n",
    "    nonfires = np.where(pattern == 0)[0]\n",
    "    spur_fires = npr.choice(nonfires, size=int(spurious*len(nonfires)), replace=False)\n",
    "    \n",
    "    all_fires = np.concatenate((deg_fires, spur_fires), axis=0)\n",
    "\n",
    "    deg_pat = np.zeros(shape=(len(pattern),))\n",
    "    deg_pat[all_fires] = 1\n",
    "    \n",
    "    return deg_pat\n",
    "\n",
    "\n",
    "def simulate(in_pattern, out_pattern, con_mat, syn_mat, g0, g1, cycles=10, pprint=False):\n",
    "    \"\"\"Return final matrix of updates.\n",
    "    \n",
    "    Args:\n",
    "        in_pattern: (array) degraded pattern to start\n",
    "        out_pattern: (array) original pattern to attempt to recall\n",
    "        con_mat: (matrix) connectivity matrix\n",
    "        syn_mat: (matrix) synaptic weights matrix\n",
    "        g0: (float) firing threshold\n",
    "        g1: (float) inhibition factor\n",
    "        cycles: (int) num times to run iteration\n",
    "    \n",
    "    Return:\n",
    "        curr_mat: (matrix) end state matrix\n",
    "    \"\"\"\n",
    "    n = len(in_pattern)\n",
    "    W_J = con_mat.multiply(syn_mat)\n",
    "#     print('W_J', len(W_J.nonzero()))\n",
    "    state = sparse.csr_matrix(np.matrix(in_pattern)).T\n",
    "    if pprint:\n",
    "        print('{:<10} {:<10} {:<10}'.format('steps', 'correl', 'num fires'))\n",
    "    for i in range(cycles):\n",
    "        if pprint:\n",
    "            curr = state.T.toarray()[0]\n",
    "            print('{:<10} {:<10.2f} {:<10}'.format(i, get_correlation(curr, out_pattern), sum(curr)))\n",
    "        _inter = W_J.dot(state)\n",
    "        h = (1/n) * _inter\n",
    "#         print('h', h)\n",
    "        condition = h - ( (1/n) * g1 * np.sum(state) )\n",
    "        state = condition > g0\n",
    "    curr = state.T.toarray()[0]\n",
    "    return get_correlation(curr, out_pattern)\n",
    "\n",
    "def get_correlation(p1, p2):\n",
    "    p1_ = p1 - (sum(p1)/len(p1))\n",
    "    p2_ = p2 - (sum(p2)/len(p2))\n",
    "    return 1 - cosine(p1_, p2_)\n",
    "\n",
    "b_vald = .5  # fraction of valid firing neurons in patterns\n",
    "b_spur = 0.001  # fraction of spurious firing neurons in patterns\n",
    "\n",
    "\n",
    "now = time()\n",
    "godpat = M[0, :]\n",
    "badpat = get_degraded_pattern(godpat, b_vald, b_spur)\n",
    "print('made degraded pattern in', time() - now)\n",
    "print('correlation', get_correlation(godpat, badpat))\n",
    "\n",
    "g_0 = 7 * 10**-6\n",
    "g_1 = 0.0\n",
    "res = simulate(badpat, godpat, W, J, g_0, g_1, pprint=True)\n",
    "# should see a correlation between original and degraded patterns of 0.71"
   ]
  },
  {
   "cell_type": "code",
   "execution_count": 83,
   "metadata": {},
   "outputs": [
    {
     "name": "stdout",
     "output_type": "stream",
     "text": [
      "0 0..."
     ]
    },
    {
     "name": "stderr",
     "output_type": "stream",
     "text": [
      "/anaconda3/lib/python3.6/site-packages/scipy/sparse/compressed.py:746: SparseEfficiencyWarning: Changing the sparsity structure of a csr_matrix is expensive. lil_matrix is more efficient.\n",
      "  SparseEfficiencyWarning)\n"
     ]
    },
    {
     "name": "stdout",
     "output_type": "stream",
     "text": [
      "0 1...1 0...1 1...2 0...2 1...3 0...3 1...\n",
      "[0.1, 0.3, 0.5, 0.7]\n",
      "[5, 10]\n"
     ]
    },
    {
     "data": {
      "text/plain": [
       "array([[ 0.92363989,  0.81686913,  0.        ,  0.        ,  0.        ],\n",
       "       [ 0.7971595 ,  0.52337874,  0.        ,  0.        ,  0.        ],\n",
       "       [ 0.72830927,  0.71143631,  0.        ,  0.        ,  0.        ],\n",
       "       [ 0.8472593 ,  0.56493426,  0.        ,  0.        ,  0.        ],\n",
       "       [ 0.        ,  0.        ,  0.        ,  0.        ,  0.        ]])"
      ]
     },
     "execution_count": 83,
     "metadata": {},
     "output_type": "execute_result"
    }
   ],
   "source": [
    "n = 5000                  # number of neurons in network; CA3 is 330,000 (or double)\n",
    "p = .7                   # connection probability for weight matrix\n",
    "m = 5                   # number of patterns to store\n",
    "f = 0.005                  # average activity level of each pattern\n",
    "\n",
    "b_vald = .5  # fraction of valid firing neurons in patterns\n",
    "b_spur = 0.00  # fraction of spurious firing neurons in patterns\n",
    "\n",
    "g_0 = 7 * 10**-6\n",
    "g_1 = 0.0\n",
    "\n",
    "p_range = [.1, .3, .5, .7]\n",
    "m_range = [5, 10]\n",
    "\n",
    "res_mat = np.zeros(shape=(len(p_range),len(m_range)))\n",
    "\n",
    "for i, p in enumerate(p_range):\n",
    "    for j, m in enumerate(m_range):\n",
    "        print(i,j, end=\"...\")\n",
    "        res = 0\n",
    "        for k in range(5):\n",
    "            W = get_weights_rand(n, p) # connectivity weight matrix; are neurons connected?\n",
    "            M = get_patterns(f, n, m)  # patterns\n",
    "            J = get_syn_weights(M)     # synaptic weight matrix J; how much are neurons connected?\n",
    "\n",
    "            godpat = M[0, :]\n",
    "            badpat = get_degraded_pattern(godpat, b_vald, b_spur)\n",
    "\n",
    "            res += simulate(badpat, godpat, W, J, g_0, g_1)\n",
    "        res_mat[i, j] = res/5\n",
    "print()\n",
    "print(p_range)\n",
    "print(m_range)\n",
    "res_mat"
   ]
  },
  {
   "cell_type": "code",
   "execution_count": 37,
   "metadata": {},
   "outputs": [
    {
     "name": "stdout",
     "output_type": "stream",
     "text": [
      "[[1 1 0 0]]\n",
      "(1, 4)\n",
      "(4, 1)\n",
      "(4, 4)\n"
     ]
    },
    {
     "data": {
      "text/plain": [
       "array([[1, 1, 0, 0],\n",
       "       [1, 1, 0, 0],\n",
       "       [0, 0, 0, 0],\n",
       "       [0, 0, 0, 0]], dtype=int64)"
      ]
     },
     "execution_count": 37,
     "metadata": {},
     "output_type": "execute_result"
    }
   ],
   "source": [
    "x = np.matrix([1,1,0,0])\n",
    "print(x)\n",
    "y = sparse.csr_matrix(x)\n",
    "print(y.get_shape())\n",
    "print(y.T.get_shape())\n",
    "z = y.multiply(y.T)\n",
    "print(z.get_shape())\n",
    "z.toarray()"
   ]
  },
  {
   "cell_type": "code",
   "execution_count": null,
   "metadata": {},
   "outputs": [],
   "source": []
  }
 ],
 "metadata": {
  "kernelspec": {
   "display_name": "Python [conda root]",
   "language": "python",
   "name": "conda-root-py"
  },
  "language_info": {
   "codemirror_mode": {
    "name": "ipython",
    "version": 3
   },
   "file_extension": ".py",
   "mimetype": "text/x-python",
   "name": "python",
   "nbconvert_exporter": "python",
   "pygments_lexer": "ipython3",
   "version": "3.6.5"
  }
 },
 "nbformat": 4,
 "nbformat_minor": 2
}
